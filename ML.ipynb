{
 "cells": [
  {
   "cell_type": "code",
   "execution_count": 48,
   "metadata": {},
   "outputs": [],
   "source": [
    "from sklearn.model_selection import train_test_split\n",
    "from sklearn.ensemble import RandomForestRegressor\n",
    "from sklearn.metrics import mean_squared_error\n",
    "import pandas as pd\n",
    "import numpy as np\n",
    "import seaborn as sns\n",
    "import matplotlib as plt\n",
    "from statsmodels.tsa.stattools import adfuller\n",
    "from statsmodels.tsa.seasonal import seasonal_decompose\n",
    "from statsmodels.tsa.arima.model import ARIMA\n",
    "\n",
    "\n",
    "from datetime import datetime\n",
    "import time\n",
    "import warnings\n",
    "\n",
    "from sklearn.metrics import mean_squared_error, mean_absolute_error, r2_score\n",
    "from sklearn.compose import ColumnTransformer\n",
    "from sklearn.pipeline import make_pipeline\n",
    "from sklearn.preprocessing import StandardScaler, OneHotEncoder\n",
    "\n",
    "from sklearn.model_selection import train_test_split\n",
    "\n",
    "from sklearn.linear_model import Lasso\n",
    "from sklearn.ensemble import RandomForestRegressor\n",
    "from sklearn.model_selection import GridSearchCV\n",
    "\n",
    "import xgboost as xgb"
   ]
  },
  {
   "cell_type": "code",
   "execution_count": 49,
   "metadata": {},
   "outputs": [],
   "source": [
    "df = pd.read_csv(\"clean.csv\")"
   ]
  },
  {
   "cell_type": "code",
   "execution_count": 50,
   "metadata": {},
   "outputs": [],
   "source": [
    "numerical_feats = ['Months_since_Release', 'Avg_Price_unit']\n",
    "categorical_feats = ['Format', 'Platform_Label', 'Territory_label']"
   ]
  },
  {
   "cell_type": "code",
   "execution_count": 51,
   "metadata": {},
   "outputs": [],
   "source": [
    "scaler = StandardScaler()\n",
    "dummifier = OneHotEncoder()"
   ]
  },
  {
   "cell_type": "code",
   "execution_count": 52,
   "metadata": {},
   "outputs": [],
   "source": [
    "preprocessor = ColumnTransformer(\n",
    "    transformers=[\n",
    "        ('numeric', scaler, numerical_feats),\n",
    "        ('categorical', dummifier, categorical_feats)\n",
    "    ],\n",
    "    remainder='passthrough'\n",
    ")"
   ]
  },
  {
   "cell_type": "code",
   "execution_count": 53,
   "metadata": {},
   "outputs": [],
   "source": [
    "X = df.drop(columns=['A_units', 'A_values'])  # Drop A_values since it's not known for future data\n",
    "y = df['A_units']\n"
   ]
  },
  {
   "cell_type": "code",
   "execution_count": 54,
   "metadata": {},
   "outputs": [],
   "source": [
    "X_train,X_test,y_train,y_test = train_test_split(X,y,test_size=0.2, random_state=21)"
   ]
  },
  {
   "cell_type": "code",
   "execution_count": 55,
   "metadata": {},
   "outputs": [],
   "source": [
    "models = [\n",
    "    Lasso(),\n",
    "    RandomForestRegressor(n_estimators=100, random_state=21),\n",
    "    xgb.XGBRegressor()\n",
    "    \n",
    "]"
   ]
  },
  {
   "cell_type": "code",
   "execution_count": 56,
   "metadata": {},
   "outputs": [],
   "source": [
    "X_train = preprocessor.fit_transform(X_train)\n",
    "X_test = preprocessor.transform(X_test)"
   ]
  },
  {
   "cell_type": "code",
   "execution_count": 57,
   "metadata": {},
   "outputs": [
    {
     "name": "stdout",
     "output_type": "stream",
     "text": [
      "Lasso\n",
      "\n",
      "Time : 0.0098 sec\n",
      "Train Score : 0.285 , Test Score : -0.446\n",
      "Root mean square error : 429\n",
      "————————————————————————————————————————\n",
      "RandomForestRegressor\n",
      "\n",
      "Time : 0.0883 sec\n",
      "Train Score : 0.883 , Test Score : -1.219\n",
      "Root mean square error : 532\n",
      "————————————————————————————————————————\n",
      "XGBRegressor\n",
      "\n",
      "Time : 0.0898 sec\n",
      "Train Score : 1.000 , Test Score : -1.633\n",
      "Root mean square error : 579\n",
      "————————————————————————————————————————\n"
     ]
    }
   ],
   "source": [
    "for model in models:\n",
    "    start = time.time()\n",
    "    model.fit(X_train,y_train)\n",
    "    end = time.time()\n",
    "    print(type(model).__name__)\n",
    "    print(\"\")\n",
    "    print(\"Time : {:.4f} sec\".format(end-start))\n",
    "    print(\"Train Score : {:.3f} , Test Score : {:.3f}\".format(model.score(X_train,y_train), model.score(X_test,y_test)))\n",
    "    print(\"Root mean square error : {:.0f}\".format(mean_squared_error(y_test,model.predict(X_test))**(1/2)))\n",
    "    print(40*\"—\")"
   ]
  },
  {
   "cell_type": "code",
   "execution_count": 58,
   "metadata": {},
   "outputs": [],
   "source": [
    "LR_parameters = {\n",
    "    \"alpha\":[0.001, 0.01, 0.1, 1, 3, 6, 10, 20, 30, 50, 100, 150]\n",
    "}"
   ]
  },
  {
   "cell_type": "code",
   "execution_count": 59,
   "metadata": {},
   "outputs": [],
   "source": [
    "RF_parameters = {\n",
    "    \"n_estimators\": [50, 100, 200,300],\n",
    "    \"max_depth\": [5, 10, 20, 30, 80],\n",
    "    \"min_samples_split\": [5,10,20],\n",
    "    \"min_samples_leaf\": [1,3, 5, 10]\n",
    "}"
   ]
  },
  {
   "cell_type": "code",
   "execution_count": 60,
   "metadata": {},
   "outputs": [],
   "source": [
    "XGB_parameters = {\n",
    "    'n_estimators': [50, 100, 200,300],\n",
    "    'max_depth': [1,2,4,10],\n",
    "    'gamma':[0,0.1,0.2,0.5]\n",
    "\n",
    "}"
   ]
  },
  {
   "cell_type": "code",
   "execution_count": 61,
   "metadata": {},
   "outputs": [
    {
     "name": "stdout",
     "output_type": "stream",
     "text": [
      "Lasso\n",
      "Time: 0.0592 sec\n",
      "\n",
      "Best Parameters: {'alpha': 50}\n",
      "Best R2-Score (r2): 0.16639330077947956\n",
      "Train Score: 0.173, Test Score: 0.170\n",
      "Root Mean Square Error: 325\n",
      "————————————————————————————————————————\n",
      "RandomForestRegressor\n",
      "Time: 46.6323 sec\n",
      "\n",
      "Best Parameters: {'max_depth': 5, 'min_samples_leaf': 5, 'min_samples_split': 5, 'n_estimators': 100}\n",
      "Best R2-Score (r2): 0.1389329859261715\n",
      "Train Score: 0.393, Test Score: 0.040\n",
      "Root Mean Square Error: 350\n",
      "————————————————————————————————————————\n",
      "XGBRegressor\n",
      "Time: 16.3142 sec\n",
      "\n",
      "Best Parameters: {'gamma': 0.5, 'max_depth': 4, 'n_estimators': 50}\n",
      "Best R2-Score (r2): 0.10012985045601981\n",
      "Train Score: 0.997, Test Score: -0.322\n",
      "Root Mean Square Error: 410\n",
      "————————————————————————————————————————\n"
     ]
    }
   ],
   "source": [
    "param_grids = [LR_parameters, RF_parameters, XGB_parameters]\n",
    "\n",
    "\n",
    "for model, param_grid in zip(models, param_grids):\n",
    "    start = time.time()\n",
    "    warnings.filterwarnings(\"ignore\")\n",
    "\n",
    "    # Perform GridSearchCV\n",
    "    grid_search = GridSearchCV(model, param_grid, cv=3, scoring='r2')\n",
    "    grid_search.fit(X_train, y_train)\n",
    "\n",
    "    end = time.time()\n",
    "\n",
    "    \n",
    "    print(type(model).__name__)\n",
    "    print(\"Time: {:.4f} sec\".format(end - start))\n",
    "    print('')\n",
    "    print(\"Best Parameters:\", grid_search.best_params_)\n",
    "    print(\"Best R2-Score (r2):\", grid_search.best_score_)\n",
    "    \n",
    "    best_model = grid_search.best_estimator_\n",
    "\n",
    "    print(\"Train Score: {:.3f}, Test Score: {:.3f}\".format(\n",
    "        best_model.score(X_train, y_train), best_model.score(X_test, y_test)))\n",
    "    \n",
    "    y_pred = best_model.predict(X_test)\n",
    "    rmse = mean_squared_error(y_test, y_pred, squared=False)\n",
    "    print(\"Root Mean Square Error: {:.0f}\".format(rmse))\n",
    "    \n",
    "    print(40 * \"—\")"
   ]
  },
  {
   "cell_type": "markdown",
   "metadata": {},
   "source": [
    "## feature importance using Lasso"
   ]
  },
  {
   "cell_type": "code",
   "execution_count": 62,
   "metadata": {},
   "outputs": [],
   "source": [
    "categorical_column_names = preprocessor.transformers_[1][1].categories_\n",
    "numerical_column_names = X.loc[:, numerical_feats].columns\n",
    "column_names = list(X.columns)\n",
    "boolean_column_names = [col for col in column_names if X[col].dtype == bool]"
   ]
  },
  {
   "cell_type": "code",
   "execution_count": 63,
   "metadata": {},
   "outputs": [],
   "source": [
    "all_column_names = []\n",
    "flat_categorical_column_names = np.concatenate(categorical_column_names)\n",
    "all_column_names = np.append(flat_categorical_column_names, numerical_column_names)\n",
    "all_column_names = np.append(all_column_names, boolean_column_names)"
   ]
  },
  {
   "cell_type": "code",
   "execution_count": 77,
   "metadata": {},
   "outputs": [],
   "source": [
    "regressor = Lasso(alpha=3.0)\n",
    "regressor.fit(X_train, y_train)\n",
    "feature_importance_coef = regressor.coef_"
   ]
  },
  {
   "cell_type": "code",
   "execution_count": 78,
   "metadata": {},
   "outputs": [],
   "source": [
    "feature_importance = pd.DataFrame({\n",
    "    \"feature_names\": all_column_names,\n",
    "    \"coefficients\":feature_importance_coef.flatten()\n",
    "})"
   ]
  },
  {
   "cell_type": "code",
   "execution_count": 79,
   "metadata": {},
   "outputs": [
    {
     "data": {
      "text/plain": [
       "<seaborn.axisgrid.FacetGrid at 0x126b4f010>"
      ]
     },
     "execution_count": 79,
     "metadata": {},
     "output_type": "execute_result"
    },
    {
     "data": {
      "image/png": "[encoded data removed]",
      "text/plain": [
       "<Figure size 888.889x500 with 1 Axes>"
      ]
     },
     "metadata": {},
     "output_type": "display_data"
    }
   ],
   "source": [
    "sns.catplot(x=\"feature_names\", \n",
    "            y=\"coefficients\", \n",
    "            data=feature_importance.sort_values(by=\"coefficients\", ascending=False).head(8), \n",
    "            kind=\"bar\",\n",
    "            aspect=16/9)"
   ]
  },
  {
   "cell_type": "code",
   "execution_count": null,
   "metadata": {},
   "outputs": [],
   "source": []
  }
 ],
 "metadata": {
  "kernelspec": {
   "display_name": "Data",
   "language": "python",
   "name": "python3"
  },
  "language_info": {
   "codemirror_mode": {
    "name": "ipython",
    "version": 3
   },
   "file_extension": ".py",
   "mimetype": "text/x-python",
   "name": "python",
   "nbconvert_exporter": "python",
   "pygments_lexer": "ipython3",
   "version": "3.11.3"
  }
 },
 "nbformat": 4,
 "nbformat_minor": 2
}
